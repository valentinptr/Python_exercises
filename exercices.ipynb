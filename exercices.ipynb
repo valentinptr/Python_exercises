{
 "cells": [
  {
   "cell_type": "markdown",
   "id": "3c44c43d-b9f4-4f4b-88fd-2aadaa771392",
   "metadata": {},
   "source": [
    "https://www.pdffiller.com/jsfiller-desk21/?flat_pdf_quality=low&mode=link_to_fill&requestHash=8360e345b83a77a72d0113e2ff10e9a39a93d43b551542e003843b98eba57f75&lang=fr&et=l2f&projectId=1481819496&loader=tips&PAGE_REARRANGE_V2_MVP=true&richTextFormatting=true&isPageRearrangeV2MVP=true&jsf-page-rearrange-v2=true&LATEST_PDFJS=true&jsf-document-scroll-zoom=true&jsf-redesign-full=true&act-notary-pro-integration=false&jsf-pdfjs-fourth=false&routeId=921d07a18f710f3caa929cc59b1445b1#0104c376dcca4d7ba6fd510017a20367"
   ]
  },
  {
   "cell_type": "markdown",
   "id": "2b2554e0-85e6-483a-821a-4ed56713434e",
   "metadata": {},
   "source": [
    "# Exercice 0"
   ]
  },
  {
   "cell_type": "code",
   "execution_count": 4,
   "id": "eac72354-7da2-4eec-a3bc-5ea242d7f99d",
   "metadata": {},
   "outputs": [],
   "source": [
    "fruits = [\"orange\", \"banane\", \"kiwi\", \"pomme\", \"raisin\", \"ananas\", \"mangue\"]"
   ]
  },
  {
   "cell_type": "markdown",
   "id": "39fad563-1c24-479d-9035-7a5c09e13ad8",
   "metadata": {},
   "source": [
    "## Tri alphabétique"
   ]
  },
  {
   "cell_type": "code",
   "execution_count": 8,
   "id": "fa70ea17-634e-475b-a431-bfb23a9803b6",
   "metadata": {},
   "outputs": [
    {
     "name": "stdout",
     "output_type": "stream",
     "text": [
      "['ananas', 'banane', 'kiwi', 'mangue', 'orange', 'pomme', 'raisin']\n"
     ]
    }
   ],
   "source": [
    "fruits.sort()\n",
    "print(fruits)"
   ]
  },
  {
   "cell_type": "markdown",
   "id": "0aa3c733-5b92-4843-99b8-49d7a3d6d505",
   "metadata": {},
   "source": [
    "## Ajout d'éléments"
   ]
  },
  {
   "cell_type": "code",
   "execution_count": 12,
   "id": "749d63ec-09dc-4d77-80fe-f8c30e39daa0",
   "metadata": {},
   "outputs": [
    {
     "data": {
      "text/plain": [
       "['ananas',\n",
       " 'banane',\n",
       " 'kiwi',\n",
       " 'mangue',\n",
       " 'orange',\n",
       " 'pomme',\n",
       " 'raisin',\n",
       " 'kiwi',\n",
       " 'pomme',\n",
       " 'raisin']"
      ]
     },
     "execution_count": 12,
     "metadata": {},
     "output_type": "execute_result"
    }
   ],
   "source": [
    "fruits.extend([\"kiwi\", \"pomme\", \"raisin\"])\n",
    "fruits"
   ]
  },
  {
   "cell_type": "markdown",
   "id": "ba42cf20-81fa-4aef-aebc-937a53bbd13d",
   "metadata": {},
   "source": [
    "## Comptage"
   ]
  },
  {
   "cell_type": "code",
   "execution_count": 14,
   "id": "c18c353f-4ec5-442c-ae89-0921eccec99c",
   "metadata": {},
   "outputs": [
    {
     "data": {
      "text/plain": [
       "1"
      ]
     },
     "execution_count": 14,
     "metadata": {},
     "output_type": "execute_result"
    }
   ],
   "source": [
    "fruits.count(\"banane\")"
   ]
  },
  {
   "cell_type": "markdown",
   "id": "3c659730-0463-404b-87c0-dc0e13b7fa71",
   "metadata": {},
   "source": [
    "## Index d'élément"
   ]
  },
  {
   "cell_type": "code",
   "execution_count": 15,
   "id": "78754e68-64b5-4817-b756-981bd7b1c200",
   "metadata": {},
   "outputs": [
    {
     "data": {
      "text/plain": [
       "4"
      ]
     },
     "execution_count": 15,
     "metadata": {},
     "output_type": "execute_result"
    }
   ],
   "source": [
    "fruits.index(\"orange\")"
   ]
  },
  {
   "cell_type": "code",
   "execution_count": 16,
   "id": "7c62997e-69ae-4694-a239-f6a0af8d0e9e",
   "metadata": {},
   "outputs": [
    {
     "data": {
      "text/plain": [
       "'orange'"
      ]
     },
     "execution_count": 16,
     "metadata": {},
     "output_type": "execute_result"
    }
   ],
   "source": [
    "index = fruits.index(\"orange\")\n",
    "fruits[index]"
   ]
  },
  {
   "cell_type": "markdown",
   "id": "60fac470-0c29-49a6-b7fc-a5e8927b6953",
   "metadata": {},
   "source": [
    "## Supression"
   ]
  },
  {
   "cell_type": "code",
   "execution_count": 43,
   "id": "6cc45fcd-4cf4-48fd-a6bd-0d1b83141c4e",
   "metadata": {},
   "outputs": [
    {
     "data": {
      "text/plain": [
       "['ananas', 'banane', 'kiwi', 'mangue', 'orange', 'pomme', 'kiwi', 'pomme']"
      ]
     },
     "execution_count": 43,
     "metadata": {},
     "output_type": "execute_result"
    }
   ],
   "source": [
    "nbre_count = fruits.count(\"fraise\")\n",
    "for i in range(1,nbre_count + 1):\n",
    "    fruits.remove(\"fraise\")\n",
    "fruits"
   ]
  },
  {
   "cell_type": "markdown",
   "id": "8d1e057e-c475-4d3f-b2e9-34bbdba7f917",
   "metadata": {},
   "source": [
    "## Longueur"
   ]
  },
  {
   "cell_type": "code",
   "execution_count": 20,
   "id": "ce1f75db-8abf-4fd8-88b0-19b05f4d8c91",
   "metadata": {},
   "outputs": [
    {
     "data": {
      "text/plain": [
       "8"
      ]
     },
     "execution_count": 20,
     "metadata": {},
     "output_type": "execute_result"
    }
   ],
   "source": [
    "len(fruits)"
   ]
  },
  {
   "cell_type": "markdown",
   "id": "1fe2529d-21fd-4157-8f51-2c60b5a7cf81",
   "metadata": {},
   "source": [
    "## Diviser la liste en 2 parties égales"
   ]
  },
  {
   "cell_type": "code",
   "execution_count": 44,
   "id": "cd80df55-a669-4eb4-ba88-bf95b3315ab3",
   "metadata": {},
   "outputs": [
    {
     "name": "stdout",
     "output_type": "stream",
     "text": [
      "['ananas', 'banane', 'kiwi', 'mangue', 'orange', 'pomme', 'kiwi', 'pomme', 'fraise', '']\n",
      "['ananas', 'banane', 'kiwi', 'mangue']\n",
      "['orange', 'pomme', 'kiwi', 'pomme', 'fraise']\n"
     ]
    }
   ],
   "source": [
    "fruits.extend([\"fraise\"])\n",
    "list1 = []\n",
    "list2 = []\n",
    "taille_list = len(fruits)\n",
    "if(taille_list % 2) == 0:\n",
    "    list1.extend(fruits[0 : int(taille_list/2)])\n",
    "    list2.extend(fruits[int(taille_list/2) : taille_list])\n",
    "else:\n",
    "    fruits.extend([\"\"])\n",
    "    list1.extend(fruits[0 : int(taille_list/2)])\n",
    "    list2.extend(fruits[int(taille_list/2) : taille_list])\n",
    "print(fruits)\n",
    "print(list1)\n",
    "print(list2)"
   ]
  },
  {
   "cell_type": "code",
   "execution_count": null,
   "id": "a5227bbf-5305-4e48-8a4e-402b9299e36e",
   "metadata": {},
   "outputs": [],
   "source": []
  }
 ],
 "metadata": {
  "kernelspec": {
   "display_name": "Python 3 (ipykernel)",
   "language": "python",
   "name": "python3"
  },
  "language_info": {
   "codemirror_mode": {
    "name": "ipython",
    "version": 3
   },
   "file_extension": ".py",
   "mimetype": "text/x-python",
   "name": "python",
   "nbconvert_exporter": "python",
   "pygments_lexer": "ipython3",
   "version": "3.10.11"
  }
 },
 "nbformat": 4,
 "nbformat_minor": 5
}
